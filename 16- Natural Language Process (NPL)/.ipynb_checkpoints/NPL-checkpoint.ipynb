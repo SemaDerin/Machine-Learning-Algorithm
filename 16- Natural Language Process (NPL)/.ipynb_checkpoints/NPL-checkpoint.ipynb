{
 "cells": [
  {
   "cell_type": "markdown",
   "id": "7e9d300f",
   "metadata": {},
   "source": [
    "# NLP"
   ]
  },
  {
   "cell_type": "markdown",
   "id": "60b05f85",
   "metadata": {},
   "source": [
    "1. Cleaning Data\n",
    "2. Bag Of Feature\n",
    "3. Text Classification\n"
   ]
  },
  {
   "cell_type": "code",
   "execution_count": 77,
   "id": "e1149f6a",
   "metadata": {},
   "outputs": [],
   "source": [
    "import pandas as pd\n",
    "import warnings\n",
    "warnings.filterwarnings(\"ignore\")\n"
   ]
  },
  {
   "cell_type": "code",
   "execution_count": 2,
   "id": "71a78e13",
   "metadata": {},
   "outputs": [],
   "source": [
    "data= pd.read_csv(\"gender_classifier.csv\", encoding= \"latin1\")"
   ]
  },
  {
   "cell_type": "code",
   "execution_count": 3,
   "id": "c743d933",
   "metadata": {},
   "outputs": [
    {
     "data": {
      "text/html": [
       "<div>\n",
       "<style scoped>\n",
       "    .dataframe tbody tr th:only-of-type {\n",
       "        vertical-align: middle;\n",
       "    }\n",
       "\n",
       "    .dataframe tbody tr th {\n",
       "        vertical-align: top;\n",
       "    }\n",
       "\n",
       "    .dataframe thead th {\n",
       "        text-align: right;\n",
       "    }\n",
       "</style>\n",
       "<table border=\"1\" class=\"dataframe\">\n",
       "  <thead>\n",
       "    <tr style=\"text-align: right;\">\n",
       "      <th></th>\n",
       "      <th>_unit_id</th>\n",
       "      <th>_golden</th>\n",
       "      <th>_unit_state</th>\n",
       "      <th>_trusted_judgments</th>\n",
       "      <th>_last_judgment_at</th>\n",
       "      <th>gender</th>\n",
       "      <th>gender:confidence</th>\n",
       "      <th>profile_yn</th>\n",
       "      <th>profile_yn:confidence</th>\n",
       "      <th>created</th>\n",
       "      <th>...</th>\n",
       "      <th>profileimage</th>\n",
       "      <th>retweet_count</th>\n",
       "      <th>sidebar_color</th>\n",
       "      <th>text</th>\n",
       "      <th>tweet_coord</th>\n",
       "      <th>tweet_count</th>\n",
       "      <th>tweet_created</th>\n",
       "      <th>tweet_id</th>\n",
       "      <th>tweet_location</th>\n",
       "      <th>user_timezone</th>\n",
       "    </tr>\n",
       "  </thead>\n",
       "  <tbody>\n",
       "    <tr>\n",
       "      <th>0</th>\n",
       "      <td>815719226</td>\n",
       "      <td>False</td>\n",
       "      <td>finalized</td>\n",
       "      <td>3</td>\n",
       "      <td>10/26/15 23:24</td>\n",
       "      <td>male</td>\n",
       "      <td>1.0000</td>\n",
       "      <td>yes</td>\n",
       "      <td>1.0</td>\n",
       "      <td>12/5/13 1:48</td>\n",
       "      <td>...</td>\n",
       "      <td>https://pbs.twimg.com/profile_images/414342229...</td>\n",
       "      <td>0</td>\n",
       "      <td>FFFFFF</td>\n",
       "      <td>Robbie E Responds To Critics After Win Against...</td>\n",
       "      <td>NaN</td>\n",
       "      <td>110964</td>\n",
       "      <td>10/26/15 12:40</td>\n",
       "      <td>6.587300e+17</td>\n",
       "      <td>main; @Kan1shk3</td>\n",
       "      <td>Chennai</td>\n",
       "    </tr>\n",
       "    <tr>\n",
       "      <th>1</th>\n",
       "      <td>815719227</td>\n",
       "      <td>False</td>\n",
       "      <td>finalized</td>\n",
       "      <td>3</td>\n",
       "      <td>10/26/15 23:30</td>\n",
       "      <td>male</td>\n",
       "      <td>1.0000</td>\n",
       "      <td>yes</td>\n",
       "      <td>1.0</td>\n",
       "      <td>10/1/12 13:51</td>\n",
       "      <td>...</td>\n",
       "      <td>https://pbs.twimg.com/profile_images/539604221...</td>\n",
       "      <td>0</td>\n",
       "      <td>C0DEED</td>\n",
       "      <td>ÛÏIt felt like they were my friends and I was...</td>\n",
       "      <td>NaN</td>\n",
       "      <td>7471</td>\n",
       "      <td>10/26/15 12:40</td>\n",
       "      <td>6.587300e+17</td>\n",
       "      <td>NaN</td>\n",
       "      <td>Eastern Time (US &amp; Canada)</td>\n",
       "    </tr>\n",
       "    <tr>\n",
       "      <th>2</th>\n",
       "      <td>815719228</td>\n",
       "      <td>False</td>\n",
       "      <td>finalized</td>\n",
       "      <td>3</td>\n",
       "      <td>10/26/15 23:33</td>\n",
       "      <td>male</td>\n",
       "      <td>0.6625</td>\n",
       "      <td>yes</td>\n",
       "      <td>1.0</td>\n",
       "      <td>11/28/14 11:30</td>\n",
       "      <td>...</td>\n",
       "      <td>https://pbs.twimg.com/profile_images/657330418...</td>\n",
       "      <td>1</td>\n",
       "      <td>C0DEED</td>\n",
       "      <td>i absolutely adore when louis starts the songs...</td>\n",
       "      <td>NaN</td>\n",
       "      <td>5617</td>\n",
       "      <td>10/26/15 12:40</td>\n",
       "      <td>6.587300e+17</td>\n",
       "      <td>clcncl</td>\n",
       "      <td>Belgrade</td>\n",
       "    </tr>\n",
       "    <tr>\n",
       "      <th>3</th>\n",
       "      <td>815719229</td>\n",
       "      <td>False</td>\n",
       "      <td>finalized</td>\n",
       "      <td>3</td>\n",
       "      <td>10/26/15 23:10</td>\n",
       "      <td>male</td>\n",
       "      <td>1.0000</td>\n",
       "      <td>yes</td>\n",
       "      <td>1.0</td>\n",
       "      <td>6/11/09 22:39</td>\n",
       "      <td>...</td>\n",
       "      <td>https://pbs.twimg.com/profile_images/259703936...</td>\n",
       "      <td>0</td>\n",
       "      <td>C0DEED</td>\n",
       "      <td>Hi @JordanSpieth - Looking at the url - do you...</td>\n",
       "      <td>NaN</td>\n",
       "      <td>1693</td>\n",
       "      <td>10/26/15 12:40</td>\n",
       "      <td>6.587300e+17</td>\n",
       "      <td>Palo Alto, CA</td>\n",
       "      <td>Pacific Time (US &amp; Canada)</td>\n",
       "    </tr>\n",
       "    <tr>\n",
       "      <th>4</th>\n",
       "      <td>815719230</td>\n",
       "      <td>False</td>\n",
       "      <td>finalized</td>\n",
       "      <td>3</td>\n",
       "      <td>10/27/15 1:15</td>\n",
       "      <td>female</td>\n",
       "      <td>1.0000</td>\n",
       "      <td>yes</td>\n",
       "      <td>1.0</td>\n",
       "      <td>4/16/14 13:23</td>\n",
       "      <td>...</td>\n",
       "      <td>https://pbs.twimg.com/profile_images/564094871...</td>\n",
       "      <td>0</td>\n",
       "      <td>0</td>\n",
       "      <td>Watching Neighbours on Sky+ catching up with t...</td>\n",
       "      <td>NaN</td>\n",
       "      <td>31462</td>\n",
       "      <td>10/26/15 12:40</td>\n",
       "      <td>6.587300e+17</td>\n",
       "      <td>NaN</td>\n",
       "      <td>NaN</td>\n",
       "    </tr>\n",
       "  </tbody>\n",
       "</table>\n",
       "<p>5 rows × 26 columns</p>\n",
       "</div>"
      ],
      "text/plain": [
       "    _unit_id  _golden _unit_state  _trusted_judgments _last_judgment_at  \\\n",
       "0  815719226    False   finalized                   3    10/26/15 23:24   \n",
       "1  815719227    False   finalized                   3    10/26/15 23:30   \n",
       "2  815719228    False   finalized                   3    10/26/15 23:33   \n",
       "3  815719229    False   finalized                   3    10/26/15 23:10   \n",
       "4  815719230    False   finalized                   3     10/27/15 1:15   \n",
       "\n",
       "   gender  gender:confidence profile_yn  profile_yn:confidence  \\\n",
       "0    male             1.0000        yes                    1.0   \n",
       "1    male             1.0000        yes                    1.0   \n",
       "2    male             0.6625        yes                    1.0   \n",
       "3    male             1.0000        yes                    1.0   \n",
       "4  female             1.0000        yes                    1.0   \n",
       "\n",
       "          created  ...                                       profileimage  \\\n",
       "0    12/5/13 1:48  ...  https://pbs.twimg.com/profile_images/414342229...   \n",
       "1   10/1/12 13:51  ...  https://pbs.twimg.com/profile_images/539604221...   \n",
       "2  11/28/14 11:30  ...  https://pbs.twimg.com/profile_images/657330418...   \n",
       "3   6/11/09 22:39  ...  https://pbs.twimg.com/profile_images/259703936...   \n",
       "4   4/16/14 13:23  ...  https://pbs.twimg.com/profile_images/564094871...   \n",
       "\n",
       "   retweet_count sidebar_color  \\\n",
       "0              0        FFFFFF   \n",
       "1              0        C0DEED   \n",
       "2              1        C0DEED   \n",
       "3              0        C0DEED   \n",
       "4              0             0   \n",
       "\n",
       "                                                text tweet_coord tweet_count  \\\n",
       "0  Robbie E Responds To Critics After Win Against...         NaN      110964   \n",
       "1  ÛÏIt felt like they were my friends and I was...         NaN        7471   \n",
       "2  i absolutely adore when louis starts the songs...         NaN        5617   \n",
       "3  Hi @JordanSpieth - Looking at the url - do you...         NaN        1693   \n",
       "4  Watching Neighbours on Sky+ catching up with t...         NaN       31462   \n",
       "\n",
       "    tweet_created      tweet_id   tweet_location               user_timezone  \n",
       "0  10/26/15 12:40  6.587300e+17  main; @Kan1shk3                     Chennai  \n",
       "1  10/26/15 12:40  6.587300e+17              NaN  Eastern Time (US & Canada)  \n",
       "2  10/26/15 12:40  6.587300e+17           clcncl                    Belgrade  \n",
       "3  10/26/15 12:40  6.587300e+17    Palo Alto, CA  Pacific Time (US & Canada)  \n",
       "4  10/26/15 12:40  6.587300e+17              NaN                         NaN  \n",
       "\n",
       "[5 rows x 26 columns]"
      ]
     },
     "execution_count": 3,
     "metadata": {},
     "output_type": "execute_result"
    }
   ],
   "source": [
    "data.head()"
   ]
  },
  {
   "cell_type": "code",
   "execution_count": 4,
   "id": "225abf2f",
   "metadata": {},
   "outputs": [],
   "source": [
    "data= pd.concat([data.gender, data.description], axis=1)"
   ]
  },
  {
   "cell_type": "code",
   "execution_count": 5,
   "id": "71a3f62b",
   "metadata": {},
   "outputs": [
    {
     "data": {
      "text/html": [
       "<div>\n",
       "<style scoped>\n",
       "    .dataframe tbody tr th:only-of-type {\n",
       "        vertical-align: middle;\n",
       "    }\n",
       "\n",
       "    .dataframe tbody tr th {\n",
       "        vertical-align: top;\n",
       "    }\n",
       "\n",
       "    .dataframe thead th {\n",
       "        text-align: right;\n",
       "    }\n",
       "</style>\n",
       "<table border=\"1\" class=\"dataframe\">\n",
       "  <thead>\n",
       "    <tr style=\"text-align: right;\">\n",
       "      <th></th>\n",
       "      <th>gender</th>\n",
       "      <th>description</th>\n",
       "    </tr>\n",
       "  </thead>\n",
       "  <tbody>\n",
       "    <tr>\n",
       "      <th>0</th>\n",
       "      <td>male</td>\n",
       "      <td>i sing my own rhythm.</td>\n",
       "    </tr>\n",
       "    <tr>\n",
       "      <th>1</th>\n",
       "      <td>male</td>\n",
       "      <td>I'm the author of novels filled with family dr...</td>\n",
       "    </tr>\n",
       "    <tr>\n",
       "      <th>2</th>\n",
       "      <td>male</td>\n",
       "      <td>louis whining and squealing and all</td>\n",
       "    </tr>\n",
       "    <tr>\n",
       "      <th>3</th>\n",
       "      <td>male</td>\n",
       "      <td>Mobile guy.  49ers, Shazam, Google, Kleiner Pe...</td>\n",
       "    </tr>\n",
       "    <tr>\n",
       "      <th>4</th>\n",
       "      <td>female</td>\n",
       "      <td>Ricky Wilson The Best FRONTMAN/Kaiser Chiefs T...</td>\n",
       "    </tr>\n",
       "  </tbody>\n",
       "</table>\n",
       "</div>"
      ],
      "text/plain": [
       "   gender                                        description\n",
       "0    male                              i sing my own rhythm.\n",
       "1    male  I'm the author of novels filled with family dr...\n",
       "2    male                louis whining and squealing and all\n",
       "3    male  Mobile guy.  49ers, Shazam, Google, Kleiner Pe...\n",
       "4  female  Ricky Wilson The Best FRONTMAN/Kaiser Chiefs T..."
      ]
     },
     "execution_count": 5,
     "metadata": {},
     "output_type": "execute_result"
    }
   ],
   "source": [
    "data.head()"
   ]
  },
  {
   "cell_type": "code",
   "execution_count": 6,
   "id": "4f999c21",
   "metadata": {},
   "outputs": [
    {
     "data": {
      "text/html": [
       "<div>\n",
       "<style scoped>\n",
       "    .dataframe tbody tr th:only-of-type {\n",
       "        vertical-align: middle;\n",
       "    }\n",
       "\n",
       "    .dataframe tbody tr th {\n",
       "        vertical-align: top;\n",
       "    }\n",
       "\n",
       "    .dataframe thead th {\n",
       "        text-align: right;\n",
       "    }\n",
       "</style>\n",
       "<table border=\"1\" class=\"dataframe\">\n",
       "  <thead>\n",
       "    <tr style=\"text-align: right;\">\n",
       "      <th></th>\n",
       "      <th>gender</th>\n",
       "      <th>description</th>\n",
       "    </tr>\n",
       "  </thead>\n",
       "  <tbody>\n",
       "    <tr>\n",
       "      <th>0</th>\n",
       "      <td>male</td>\n",
       "      <td>i sing my own rhythm.</td>\n",
       "    </tr>\n",
       "    <tr>\n",
       "      <th>1</th>\n",
       "      <td>male</td>\n",
       "      <td>I'm the author of novels filled with family dr...</td>\n",
       "    </tr>\n",
       "    <tr>\n",
       "      <th>2</th>\n",
       "      <td>male</td>\n",
       "      <td>louis whining and squealing and all</td>\n",
       "    </tr>\n",
       "    <tr>\n",
       "      <th>3</th>\n",
       "      <td>male</td>\n",
       "      <td>Mobile guy.  49ers, Shazam, Google, Kleiner Pe...</td>\n",
       "    </tr>\n",
       "    <tr>\n",
       "      <th>4</th>\n",
       "      <td>female</td>\n",
       "      <td>Ricky Wilson The Best FRONTMAN/Kaiser Chiefs T...</td>\n",
       "    </tr>\n",
       "    <tr>\n",
       "      <th>...</th>\n",
       "      <td>...</td>\n",
       "      <td>...</td>\n",
       "    </tr>\n",
       "    <tr>\n",
       "      <th>20045</th>\n",
       "      <td>female</td>\n",
       "      <td>(rp)</td>\n",
       "    </tr>\n",
       "    <tr>\n",
       "      <th>20046</th>\n",
       "      <td>male</td>\n",
       "      <td>Whatever you like, it's not a problem at all. ...</td>\n",
       "    </tr>\n",
       "    <tr>\n",
       "      <th>20047</th>\n",
       "      <td>male</td>\n",
       "      <td>#TeamBarcelona ..You look lost so you should f...</td>\n",
       "    </tr>\n",
       "    <tr>\n",
       "      <th>20048</th>\n",
       "      <td>female</td>\n",
       "      <td>Anti-statist; I homeschool my kids. Aspiring t...</td>\n",
       "    </tr>\n",
       "    <tr>\n",
       "      <th>20049</th>\n",
       "      <td>female</td>\n",
       "      <td>Teamwork makes the dream work.</td>\n",
       "    </tr>\n",
       "  </tbody>\n",
       "</table>\n",
       "<p>16224 rows × 2 columns</p>\n",
       "</div>"
      ],
      "text/plain": [
       "       gender                                        description\n",
       "0        male                              i sing my own rhythm.\n",
       "1        male  I'm the author of novels filled with family dr...\n",
       "2        male                louis whining and squealing and all\n",
       "3        male  Mobile guy.  49ers, Shazam, Google, Kleiner Pe...\n",
       "4      female  Ricky Wilson The Best FRONTMAN/Kaiser Chiefs T...\n",
       "...       ...                                                ...\n",
       "20045  female                                               (rp)\n",
       "20046    male  Whatever you like, it's not a problem at all. ...\n",
       "20047    male  #TeamBarcelona ..You look lost so you should f...\n",
       "20048  female  Anti-statist; I homeschool my kids. Aspiring t...\n",
       "20049  female                     Teamwork makes the dream work.\n",
       "\n",
       "[16224 rows x 2 columns]"
      ]
     },
     "execution_count": 6,
     "metadata": {},
     "output_type": "execute_result"
    }
   ],
   "source": [
    "# null kaldırılması\n",
    "\n",
    "data.dropna(axis=0)"
   ]
  },
  {
   "cell_type": "code",
   "execution_count": 7,
   "id": "79819fc2",
   "metadata": {},
   "outputs": [
    {
     "data": {
      "text/plain": [
       "gender           97\n",
       "description    3744\n",
       "dtype: int64"
      ]
     },
     "execution_count": 7,
     "metadata": {},
     "output_type": "execute_result"
    }
   ],
   "source": [
    "data.isnull().sum()"
   ]
  },
  {
   "cell_type": "code",
   "execution_count": 8,
   "id": "496accc7",
   "metadata": {
    "scrolled": true
   },
   "outputs": [
    {
     "data": {
      "text/plain": [
       "20050"
      ]
     },
     "execution_count": 8,
     "metadata": {},
     "output_type": "execute_result"
    }
   ],
   "source": [
    "len(data)"
   ]
  },
  {
   "cell_type": "code",
   "execution_count": 9,
   "id": "c3728633",
   "metadata": {},
   "outputs": [],
   "source": [
    "data.dropna(axis=0, inplace=True)"
   ]
  },
  {
   "cell_type": "code",
   "execution_count": 10,
   "id": "ae4314af",
   "metadata": {},
   "outputs": [
    {
     "data": {
      "text/plain": [
       "gender         0\n",
       "description    0\n",
       "dtype: int64"
      ]
     },
     "execution_count": 10,
     "metadata": {},
     "output_type": "execute_result"
    }
   ],
   "source": [
    "data.isnull().sum()"
   ]
  },
  {
   "cell_type": "code",
   "execution_count": 11,
   "id": "7c0331b3",
   "metadata": {},
   "outputs": [
    {
     "data": {
      "text/plain": [
       "16224"
      ]
     },
     "execution_count": 11,
     "metadata": {},
     "output_type": "execute_result"
    }
   ],
   "source": [
    "len(data)"
   ]
  },
  {
   "cell_type": "code",
   "execution_count": 12,
   "id": "6faf57f4",
   "metadata": {},
   "outputs": [],
   "source": [
    "data.gender= [1 if each== \"female\" else 0 for each in data.gender]"
   ]
  },
  {
   "cell_type": "markdown",
   "id": "2be1945d",
   "metadata": {},
   "source": [
    "#### Cleaning Data"
   ]
  },
  {
   "cell_type": "code",
   "execution_count": 13,
   "id": "4b23c70e",
   "metadata": {},
   "outputs": [],
   "source": [
    "import re"
   ]
  },
  {
   "cell_type": "code",
   "execution_count": 14,
   "id": "0fb8a554",
   "metadata": {},
   "outputs": [],
   "source": [
    "# Re kütüphanesi Regular expression "
   ]
  },
  {
   "cell_type": "code",
   "execution_count": 15,
   "id": "584af864",
   "metadata": {},
   "outputs": [],
   "source": [
    "first_description= data.description[4]"
   ]
  },
  {
   "cell_type": "code",
   "execution_count": 16,
   "id": "d8f7bd4b",
   "metadata": {},
   "outputs": [
    {
     "data": {
      "text/plain": [
       "'Ricky Wilson The Best FRONTMAN/Kaiser Chiefs The Best BAND Xxxx Thank you Kaiser Chiefs for an incredible year of gigs and memories to cherish always :) Xxxxxxx'"
      ]
     },
     "execution_count": 16,
     "metadata": {},
     "output_type": "execute_result"
    }
   ],
   "source": [
    "first_description"
   ]
  },
  {
   "cell_type": "code",
   "execution_count": 17,
   "id": "a5c19085",
   "metadata": {},
   "outputs": [],
   "source": [
    "# a'dan z'ye ve A'dan Z'ye olan tüm harfler kalıp geri kalanın yerine \" \" (space) koyma işlemi\n",
    "description = re.sub(\"[^a-zA-Z]\", \" \", first_description)\n"
   ]
  },
  {
   "cell_type": "code",
   "execution_count": 18,
   "id": "f4c2dbf5",
   "metadata": {},
   "outputs": [
    {
     "data": {
      "text/plain": [
       "'Ricky Wilson The Best FRONTMAN Kaiser Chiefs The Best BAND Xxxx Thank you Kaiser Chiefs for an incredible year of gigs and memories to cherish always    Xxxxxxx'"
      ]
     },
     "execution_count": 18,
     "metadata": {},
     "output_type": "execute_result"
    }
   ],
   "source": [
    "description"
   ]
  },
  {
   "cell_type": "markdown",
   "id": "b8b24f62",
   "metadata": {},
   "source": [
    "Tamamını küçük harfe çevirme"
   ]
  },
  {
   "cell_type": "code",
   "execution_count": 19,
   "id": "d17f9514",
   "metadata": {},
   "outputs": [
    {
     "data": {
      "text/plain": [
       "'ricky wilson the best frontman kaiser chiefs the best band xxxx thank you kaiser chiefs for an incredible year of gigs and memories to cherish always    xxxxxxx'"
      ]
     },
     "execution_count": 19,
     "metadata": {},
     "output_type": "execute_result"
    }
   ],
   "source": [
    "description.lower()"
   ]
  },
  {
   "cell_type": "markdown",
   "id": "5c8d01f8",
   "metadata": {},
   "source": [
    "# Irrelevant Words (Stopword)"
   ]
  },
  {
   "cell_type": "markdown",
   "id": "b16f62aa",
   "metadata": {},
   "source": [
    "Nasıl ki Türkçe'de (gibi, için, kadar, karşı) edatlar ingilizcede de kendi başına anlam ifade etmeyen bazı kelimeler var. Mesela the, and, in , on, at, with, of veya for gibi. Bu bizim classsify ederken bize katkı sağlamayan yapılardır. "
   ]
  },
  {
   "cell_type": "code",
   "execution_count": 20,
   "id": "33f778db",
   "metadata": {},
   "outputs": [
    {
     "name": "stderr",
     "output_type": "stream",
     "text": [
      "[nltk_data] Downloading package stopwords to\n",
      "[nltk_data]     C:\\Users\\derin\\AppData\\Roaming\\nltk_data...\n",
      "[nltk_data]   Package stopwords is already up-to-date!\n"
     ]
    }
   ],
   "source": [
    "import nltk  #natural language tool kit\n",
    "nltk.download(\"stopwords\")\n",
    "from nltk.corpus import stopwords"
   ]
  },
  {
   "cell_type": "code",
   "execution_count": 21,
   "id": "db6bb829",
   "metadata": {},
   "outputs": [],
   "source": [
    "description= description.split()"
   ]
  },
  {
   "cell_type": "code",
   "execution_count": 22,
   "id": "05a95fd6",
   "metadata": {},
   "outputs": [
    {
     "data": {
      "text/plain": [
       "['Ricky',\n",
       " 'Wilson',\n",
       " 'The',\n",
       " 'Best',\n",
       " 'FRONTMAN',\n",
       " 'Kaiser',\n",
       " 'Chiefs',\n",
       " 'The',\n",
       " 'Best',\n",
       " 'BAND',\n",
       " 'Xxxx',\n",
       " 'Thank',\n",
       " 'you',\n",
       " 'Kaiser',\n",
       " 'Chiefs',\n",
       " 'for',\n",
       " 'an',\n",
       " 'incredible',\n",
       " 'year',\n",
       " 'of',\n",
       " 'gigs',\n",
       " 'and',\n",
       " 'memories',\n",
       " 'to',\n",
       " 'cherish',\n",
       " 'always',\n",
       " 'Xxxxxxx']"
      ]
     },
     "execution_count": 22,
     "metadata": {},
     "output_type": "execute_result"
    }
   ],
   "source": [
    "description"
   ]
  },
  {
   "cell_type": "code",
   "execution_count": 23,
   "id": "6b5d3c2a",
   "metadata": {},
   "outputs": [],
   "source": [
    "#Split yerine Tokenizer değişkeni kullanılabilir.\n",
    "# a'dan z'ye ve A'dan Z'ye olan tüm harfler kalıp geri kalanın yerine \" \" (space) koyma işlemi\n",
    "description = re.sub(\"[^a-zA-Z]\", \" \", first_description)\n",
    "description= nltk.word_tokenize(description)"
   ]
  },
  {
   "cell_type": "code",
   "execution_count": 24,
   "id": "d6748962",
   "metadata": {},
   "outputs": [
    {
     "data": {
      "text/plain": [
       "['Ricky',\n",
       " 'Wilson',\n",
       " 'The',\n",
       " 'Best',\n",
       " 'FRONTMAN',\n",
       " 'Kaiser',\n",
       " 'Chiefs',\n",
       " 'The',\n",
       " 'Best',\n",
       " 'BAND',\n",
       " 'Xxxx',\n",
       " 'Thank',\n",
       " 'you',\n",
       " 'Kaiser',\n",
       " 'Chiefs',\n",
       " 'for',\n",
       " 'an',\n",
       " 'incredible',\n",
       " 'year',\n",
       " 'of',\n",
       " 'gigs',\n",
       " 'and',\n",
       " 'memories',\n",
       " 'to',\n",
       " 'cherish',\n",
       " 'always',\n",
       " 'Xxxxxxx']"
      ]
     },
     "execution_count": 24,
     "metadata": {},
     "output_type": "execute_result"
    }
   ],
   "source": [
    "description"
   ]
  },
  {
   "cell_type": "markdown",
   "id": "9ad8cfd6",
   "metadata": {},
   "source": [
    "bir metin belgesindeki her kelimeyi (description listesi), İngilizce dili için belirlenmiş durma kelimeleri kümesi (stopwords.words(\"english\")) ile karşılaştırır. Eğer kelime durma kelimeleri kümesinde yer alıyorsa (not word in set(stopwords.words(\"english\"))), bu kelimeyi listeden çıkarır. Bu işlem, belirli bir metindeki önemsiz kelimeleri çıkarmak ve sadece anlamlı kelimeleri elde etmek için kullanılır. Bu, genellikle doğal dil işleme ve metin sınıflandırma gibi makine öğrenimi uygulamalarında önemli bir ön işleme adımıdır.\n"
   ]
  },
  {
   "cell_type": "code",
   "execution_count": 25,
   "id": "828e0249",
   "metadata": {},
   "outputs": [],
   "source": [
    "description = [word for word in description if not word in set(stopwords.words(\"english\"))]"
   ]
  },
  {
   "cell_type": "markdown",
   "id": "a4955a16",
   "metadata": {},
   "source": [
    "#### Lemmatization"
   ]
  },
  {
   "cell_type": "markdown",
   "id": "48d34483",
   "metadata": {},
   "source": [
    "Lemmatizasyon, bir metinde geçen kelimelerin köklerini (lemma) bulma işlemidir. Kelime kökleri, bir kelimenin sözlük anlamına karşılık gelen en temel halidir ve genellikle yalın halleri olarak adlandırılır. Örneğin, \"koşmak\", \"koşuyor\", \"koşarak\" kelimelerinin kökü \"koş\" dur.\n",
    "\n",
    "Lemmatizasyon, metnin doğal dil işleme (NLP) aşamasında kullanılır ve kelime sayısını azaltarak verilerin analizini kolaylaştırır. Özellikle, kelime sayısını azaltarak ve kelime köklerini belirleyerek, aynı anlama gelen farklı kelimelerin aynı kökte birleştirilmesini sağlar.\n",
    "\n",
    "Lemmatizasyon, kelime köklerinin doğru belirlenmesi açısından stemmer yöntemine göre daha doğru sonuçlar verir, çünkü stemmer yöntemi sadece kelimenin sonundaki ekleri kaldırır ve kelimenin kökünü belirlemek yerine daha kısa bir formda kelimeyi bırakır."
   ]
  },
  {
   "cell_type": "code",
   "execution_count": 26,
   "id": "993911e4",
   "metadata": {},
   "outputs": [],
   "source": [
    "import nltk as nlp"
   ]
  },
  {
   "cell_type": "code",
   "execution_count": 27,
   "id": "8eca68e3",
   "metadata": {},
   "outputs": [],
   "source": [
    "lemma=  nlp.WordNetLemmatizer()"
   ]
  },
  {
   "cell_type": "code",
   "execution_count": 28,
   "id": "457c115a",
   "metadata": {},
   "outputs": [],
   "source": [
    "description= [lemma.lemmatize(word) for word in description]\n",
    "description= \" \".join(description) #Her bir kelimeyi boşluk ile birleştirip cümle haline getirme"
   ]
  },
  {
   "cell_type": "markdown",
   "id": "1df34dd0",
   "metadata": {},
   "source": [
    "##### Data'nın Tamamına Uygulama"
   ]
  },
  {
   "cell_type": "code",
   "execution_count": 29,
   "id": "ebd1c37f",
   "metadata": {},
   "outputs": [],
   "source": [
    "description_list=[]\n",
    "for description in data.description:\n",
    "    description = re.sub(\"[^a-zA-Z]\", \" \", first_description) #Harf olmayan işaretlerin kaldırılması\n",
    "    description= description.lower() # küçük harfe dönüştürme\n",
    "    description= nltk.word_tokenize(description)   # Her bir kelimeyi bir liste elemanı haline getirme\n",
    "    description = [word for word in description if not word in set(stopwords.words(\"english\"))] #Yalnizca ingilizce kelimeler\n",
    "    lemma= nlp.WordNetLemmatizer()  # Kelime köklerini bulup kök haline getirme\n",
    "    description= [lemma.lemmatize(word) for word in description]  # Her bir kelimenin yalnızca kökünü alma\n",
    "    description= \" \".join(description) #Listedeki her kelimeyi \" \"(space) ile birleştir (Cümleye çevirme)\n",
    "    description_list.append(description)\n",
    "    \n",
    "    \n",
    "     "
   ]
  },
  {
   "cell_type": "markdown",
   "id": "4912994f",
   "metadata": {},
   "source": [
    "Bag of words, bir belgedeki kelime sıklıklarının vektör temsili olarak kullanıldığı bir metin işleme yöntemidir. Bu yöntem, belgenin içeriğini sadece içerdiği kelimelerin sayısına dayalı olarak temsil eder ve kelime sırasını veya belgenin anlamını dikkate almaz.\n",
    "\n",
    "Python'da, bir metnin bag of words temsili oluşturmak için sklearn.feature_extraction.text.CountVectorizer sınıfı kullanılabilir. Bu sınıf, bir dizi belgeyi kabul eder ve belgelerin bag of words temsillerini hesaplar. Aşağıdaki örnek, CountVectorizer sınıfının kullanımını gösterir:"
   ]
  },
  {
   "cell_type": "code",
   "execution_count": 32,
   "id": "6991a2a2",
   "metadata": {},
   "outputs": [],
   "source": [
    "#bag of words\n",
    "from sklearn.feature_extraction.text import CountVectorizer #bag of words yaratmak için kullandık\n"
   ]
  },
  {
   "cell_type": "code",
   "execution_count": 35,
   "id": "979b28bc",
   "metadata": {},
   "outputs": [],
   "source": [
    "max_features= 500 #En çok geçen 500 kelime\n",
    "count_vectorizer= CountVectorizer(max_features=max_features, stop_words= \"english\")"
   ]
  },
  {
   "cell_type": "code",
   "execution_count": 63,
   "id": "73155b35",
   "metadata": {},
   "outputs": [],
   "source": [
    "spars_matrix= count_vectorizer.fit_transform(description_list).toarray()"
   ]
  },
  {
   "cell_type": "markdown",
   "id": "f9a68a3d",
   "metadata": {},
   "source": [
    "###### Test Classification"
   ]
  },
  {
   "cell_type": "code",
   "execution_count": 64,
   "id": "b3dfebd6",
   "metadata": {},
   "outputs": [],
   "source": [
    "x= spar\n",
    "y= data.iloc[:,0].values"
   ]
  },
  {
   "cell_type": "code",
   "execution_count": 65,
   "id": "043b3887",
   "metadata": {},
   "outputs": [],
   "source": [
    "from sklearn.model_selection import train_test_split"
   ]
  },
  {
   "cell_type": "code",
   "execution_count": 66,
   "id": "34610276",
   "metadata": {},
   "outputs": [],
   "source": [
    "x_train, x_test, y_train, y_test=train_test_split(x,y, test_size=0.1, random_state= 42)"
   ]
  },
  {
   "cell_type": "code",
   "execution_count": 67,
   "id": "f73cb7c1",
   "metadata": {},
   "outputs": [],
   "source": [
    "from sklearn.naive_bayes import GaussianNB"
   ]
  },
  {
   "cell_type": "code",
   "execution_count": 68,
   "id": "522736f5",
   "metadata": {},
   "outputs": [],
   "source": [
    "nb= GaussianNB()"
   ]
  },
  {
   "cell_type": "code",
   "execution_count": 69,
   "id": "8040cd94",
   "metadata": {},
   "outputs": [
    {
     "data": {
      "text/html": [
       "<style>#sk-container-id-2 {color: black;background-color: white;}#sk-container-id-2 pre{padding: 0;}#sk-container-id-2 div.sk-toggleable {background-color: white;}#sk-container-id-2 label.sk-toggleable__label {cursor: pointer;display: block;width: 100%;margin-bottom: 0;padding: 0.3em;box-sizing: border-box;text-align: center;}#sk-container-id-2 label.sk-toggleable__label-arrow:before {content: \"▸\";float: left;margin-right: 0.25em;color: #696969;}#sk-container-id-2 label.sk-toggleable__label-arrow:hover:before {color: black;}#sk-container-id-2 div.sk-estimator:hover label.sk-toggleable__label-arrow:before {color: black;}#sk-container-id-2 div.sk-toggleable__content {max-height: 0;max-width: 0;overflow: hidden;text-align: left;background-color: #f0f8ff;}#sk-container-id-2 div.sk-toggleable__content pre {margin: 0.2em;color: black;border-radius: 0.25em;background-color: #f0f8ff;}#sk-container-id-2 input.sk-toggleable__control:checked~div.sk-toggleable__content {max-height: 200px;max-width: 100%;overflow: auto;}#sk-container-id-2 input.sk-toggleable__control:checked~label.sk-toggleable__label-arrow:before {content: \"▾\";}#sk-container-id-2 div.sk-estimator input.sk-toggleable__control:checked~label.sk-toggleable__label {background-color: #d4ebff;}#sk-container-id-2 div.sk-label input.sk-toggleable__control:checked~label.sk-toggleable__label {background-color: #d4ebff;}#sk-container-id-2 input.sk-hidden--visually {border: 0;clip: rect(1px 1px 1px 1px);clip: rect(1px, 1px, 1px, 1px);height: 1px;margin: -1px;overflow: hidden;padding: 0;position: absolute;width: 1px;}#sk-container-id-2 div.sk-estimator {font-family: monospace;background-color: #f0f8ff;border: 1px dotted black;border-radius: 0.25em;box-sizing: border-box;margin-bottom: 0.5em;}#sk-container-id-2 div.sk-estimator:hover {background-color: #d4ebff;}#sk-container-id-2 div.sk-parallel-item::after {content: \"\";width: 100%;border-bottom: 1px solid gray;flex-grow: 1;}#sk-container-id-2 div.sk-label:hover label.sk-toggleable__label {background-color: #d4ebff;}#sk-container-id-2 div.sk-serial::before {content: \"\";position: absolute;border-left: 1px solid gray;box-sizing: border-box;top: 0;bottom: 0;left: 50%;z-index: 0;}#sk-container-id-2 div.sk-serial {display: flex;flex-direction: column;align-items: center;background-color: white;padding-right: 0.2em;padding-left: 0.2em;position: relative;}#sk-container-id-2 div.sk-item {position: relative;z-index: 1;}#sk-container-id-2 div.sk-parallel {display: flex;align-items: stretch;justify-content: center;background-color: white;position: relative;}#sk-container-id-2 div.sk-item::before, #sk-container-id-2 div.sk-parallel-item::before {content: \"\";position: absolute;border-left: 1px solid gray;box-sizing: border-box;top: 0;bottom: 0;left: 50%;z-index: -1;}#sk-container-id-2 div.sk-parallel-item {display: flex;flex-direction: column;z-index: 1;position: relative;background-color: white;}#sk-container-id-2 div.sk-parallel-item:first-child::after {align-self: flex-end;width: 50%;}#sk-container-id-2 div.sk-parallel-item:last-child::after {align-self: flex-start;width: 50%;}#sk-container-id-2 div.sk-parallel-item:only-child::after {width: 0;}#sk-container-id-2 div.sk-dashed-wrapped {border: 1px dashed gray;margin: 0 0.4em 0.5em 0.4em;box-sizing: border-box;padding-bottom: 0.4em;background-color: white;}#sk-container-id-2 div.sk-label label {font-family: monospace;font-weight: bold;display: inline-block;line-height: 1.2em;}#sk-container-id-2 div.sk-label-container {text-align: center;}#sk-container-id-2 div.sk-container {/* jupyter's `normalize.less` sets `[hidden] { display: none; }` but bootstrap.min.css set `[hidden] { display: none !important; }` so we also need the `!important` here to be able to override the default hidden behavior on the sphinx rendered scikit-learn.org. See: https://github.com/scikit-learn/scikit-learn/issues/21755 */display: inline-block !important;position: relative;}#sk-container-id-2 div.sk-text-repr-fallback {display: none;}</style><div id=\"sk-container-id-2\" class=\"sk-top-container\"><div class=\"sk-text-repr-fallback\"><pre>GaussianNB()</pre><b>In a Jupyter environment, please rerun this cell to show the HTML representation or trust the notebook. <br />On GitHub, the HTML representation is unable to render, please try loading this page with nbviewer.org.</b></div><div class=\"sk-container\" hidden><div class=\"sk-item\"><div class=\"sk-estimator sk-toggleable\"><input class=\"sk-toggleable__control sk-hidden--visually\" id=\"sk-estimator-id-2\" type=\"checkbox\" checked><label for=\"sk-estimator-id-2\" class=\"sk-toggleable__label sk-toggleable__label-arrow\">GaussianNB</label><div class=\"sk-toggleable__content\"><pre>GaussianNB()</pre></div></div></div></div></div>"
      ],
      "text/plain": [
       "GaussianNB()"
      ]
     },
     "execution_count": 69,
     "metadata": {},
     "output_type": "execute_result"
    }
   ],
   "source": [
    "nb.fit(x_train, y_train)"
   ]
  },
  {
   "cell_type": "code",
   "execution_count": 78,
   "id": "dd11e17f",
   "metadata": {},
   "outputs": [],
   "source": [
    "y_pred = nb.predict(x_test)\n",
    "\n"
   ]
  },
  {
   "cell_type": "code",
   "execution_count": 79,
   "id": "6d2c82b1",
   "metadata": {},
   "outputs": [
    {
     "name": "stdout",
     "output_type": "stream",
     "text": [
      "Accuracy:  0.6481823783117683\n"
     ]
    }
   ],
   "source": [
    "print(\"Accuracy: \", nb.score(x_test, y_test))"
   ]
  },
  {
   "cell_type": "code",
   "execution_count": null,
   "id": "da13131b",
   "metadata": {},
   "outputs": [],
   "source": []
  },
  {
   "cell_type": "code",
   "execution_count": null,
   "id": "762dde1f",
   "metadata": {},
   "outputs": [],
   "source": []
  }
 ],
 "metadata": {
  "kernelspec": {
   "display_name": "Python 3 (ipykernel)",
   "language": "python",
   "name": "python3"
  },
  "language_info": {
   "codemirror_mode": {
    "name": "ipython",
    "version": 3
   },
   "file_extension": ".py",
   "mimetype": "text/x-python",
   "name": "python",
   "nbconvert_exporter": "python",
   "pygments_lexer": "ipython3",
   "version": "3.10.9"
  }
 },
 "nbformat": 4,
 "nbformat_minor": 5
}
